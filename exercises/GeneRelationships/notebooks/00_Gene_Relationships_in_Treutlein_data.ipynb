{
 "cells": [
  {
   "cell_type": "code",
   "execution_count": 0,
   "metadata": {
    "colab": {},
    "colab_type": "code",
    "id": "vizATfWJ6Y0u"
   },
   "outputs": [],
   "source": [
    "! pip install --user phate scprep gseapy"
   ]
  },
  {
   "cell_type": "code",
   "execution_count": 0,
   "metadata": {
    "colab": {},
    "colab_type": "code",
    "id": "J18q9cx06Y0e"
   },
   "outputs": [],
   "source": [
    "import scprep\n",
    "scprep.io.download.download_google_drive('1VuddKA7Xa23NAFKvRUmtuND16eEMHL9z', '/content/r_packages.tar.gz')\n",
    "!tar xzf /content/r_packages.tar.gz && rm /content/r_packages.tar.gz\n",
    "!pip install --user --upgrade rpy2\n",
    "!apt-get install -yqq libgsl-dev=2.4+dfsg-6\n",
    "!echo \"R_LIBS_USER='/content/.r_packages'\" >> ~/.Renviron\n",
    "!R -e \"BiocManager::install('splatter')\""
   ]
  },
  {
   "cell_type": "code",
   "execution_count": 0,
   "metadata": {
    "colab": {},
    "colab_type": "code",
    "id": "XH8NAXd-6Y02"
   },
   "outputs": [],
   "source": [
    "import pandas as pd\n",
    "import numpy as np\n",
    "\n",
    "import phate\n",
    "import scprep\n",
    "import gseapy\n",
    "\n",
    "import matplotlib.pyplot as plt\n",
    "import seaborn as sns\n",
    "\n",
    "import time, os, tarfile"
   ]
  },
  {
   "cell_type": "markdown",
   "metadata": {
    "colab_type": "text",
    "id": "GARHxY-P6Y0-"
   },
   "source": [
    "## Identifying branch-specific gene trends in the Treutlein fibroblast data\n",
    "\n",
    "In this exercise, we will use `slingshot` on a dataset of 392 cells generated from trans-differentiating fibroblasts from [Treutlein et al. _Nature_. 2016](http://doi.org/10.1038/nature18323). This data was already preprocessed and downloaded from the [Dynverse quickstart tutorial](https://dynverse.org/users/2-quick_start/).\n",
    "\n",
    "Briefly, a variety of transcription factors were overexpressed in Mouse Embryonic Fibroblasts (MEFs) to induce neuronal differentiation. Cells were sampled at several intervals over 22 days of differentation and sequenced using the Fluidigm C1 system and the SMART-seq protocol.\n",
    "\n",
    "Once we have identified the three branches in this dataset, we are going to use `DREMI` to identify branch-specific trends in gene expression.\n",
    "\n",
    "**Note Scott/Dan**: We need to define what DREMI is the long-form _here_ in the notebook."
   ]
  },
  {
   "cell_type": "markdown",
   "metadata": {
    "colab_type": "text",
    "id": "ORUD6Zs26Y1B"
   },
   "source": [
    "## Loading and visualizing the data"
   ]
  },
  {
   "cell_type": "markdown",
   "metadata": {
    "colab_type": "text",
    "id": "Kg9BJ5gf6Y1D"
   },
   "source": [
    "#### Download data from Google Drive"
   ]
  },
  {
   "cell_type": "code",
   "execution_count": 0,
   "metadata": {
    "colab": {},
    "colab_type": "code",
    "id": "gYkYgWqV6Y1F"
   },
   "outputs": [],
   "source": [
    "home = os.path.expanduser('~')\n",
    "download_path = os.path.join(home, 'scRNAseq', '2014_Treutlein_Fibroblast.tar.gz')\n",
    "\n",
    "if not os.path.exists(os.path.dirname(download_path)):\n",
    "    os.makedirs(os.path.dirname(download_path))\n",
    "\n",
    "# Download the data tarball\n",
    "if not os.path.exists(download_path):\n",
    "    scprep.io.download.download_google_drive('1WzEva0PM95an9hKiwgQydV_df0P_g63Q',download_path)\n",
    "\n",
    "# Extract data directory\n",
    "tf = tarfile.open(download_path)\n",
    "tf.extractall(os.path.dirname(download_path))\n",
    "\n",
    "# Format the data paths\n",
    "data_dir = os.path.join(os.path.dirname(download_path), '2014_Treutlein_Fibroblast_induced_neural_differentation')\n",
    "\n",
    "data_path = os.path.join(data_dir, 'Treutlein.expression.csv')\n",
    "metadata_path  = os.path.join(data_dir, 'Treutlein.groups.csv')"
   ]
  },
  {
   "cell_type": "markdown",
   "metadata": {
    "colab_type": "text",
    "id": "6aS1CG916Y1L"
   },
   "source": [
    "#### Read in the data using `pandas`"
   ]
  },
  {
   "cell_type": "code",
   "execution_count": 0,
   "metadata": {
    "colab": {},
    "colab_type": "code",
    "id": "Wd_Jc4676Y1N"
   },
   "outputs": [],
   "source": [
    "data = pd.read_csv(data_path, index_col=0)\n",
    "\n",
    "metadata = pd.read_csv(metadata_path, index_col=0)\n",
    "metadata.columns = pd.Index(['annotated_clusters'])"
   ]
  },
  {
   "cell_type": "markdown",
   "metadata": {
    "colab_type": "text",
    "id": "wMlvR2pF6Y1T"
   },
   "source": [
    "#### Run PHATE"
   ]
  },
  {
   "cell_type": "code",
   "execution_count": 0,
   "metadata": {
    "colab": {},
    "colab_type": "code",
    "id": "-rx3ZXff6Y1U"
   },
   "outputs": [],
   "source": [
    "phate_op = phate.PHATE(knn=5, n_jobs=-2)\n",
    "\n",
    "data_phate = phate_op.fit_transform(data)\n",
    "data_phate = pd.DataFrame(data_phate, index=data.index)"
   ]
  },
  {
   "cell_type": "markdown",
   "metadata": {
    "colab_type": "text",
    "id": "T6KfVieA6Y1d"
   },
   "source": [
    "## Running Slingshot\n",
    "\n",
    "Here we're just going to run the minimal code to run Slingshot with four clusters. For a more in depth tutorial, please see the TrajectoryInference series.\n",
    "**Note Dan/Scott**: Give the link to TrajectoryInference here."
   ]
  },
  {
   "cell_type": "markdown",
   "metadata": {
    "colab_type": "text",
    "id": "w7IKd2B_6Y1e"
   },
   "source": [
    "#### Generate Clusters"
   ]
  },
  {
   "cell_type": "code",
   "execution_count": 0,
   "metadata": {
    "colab": {},
    "colab_type": "code",
    "id": "fieiesdf6Y1f"
   },
   "outputs": [],
   "source": [
    "clusters = phate.cluster.kmeans(phate_op, n_clusters=5)\n",
    "metadata['cluster'] = clusters"
   ]
  },
  {
   "cell_type": "code",
   "execution_count": 0,
   "metadata": {
    "colab": {},
    "colab_type": "code",
    "id": "ksGE7zg_6Y1k"
   },
   "outputs": [],
   "source": [
    "ax = scprep.plot.scatter2d(data_phate, c=metadata['cluster'],\n",
    "                 label_prefix='PHATE', ticks=None,\n",
    "                 title='Published clusters', legend_anchor=(1,1),\n",
    "                 figsize=(7,5))"
   ]
  },
  {
   "cell_type": "markdown",
   "metadata": {
    "colab_type": "text",
    "id": "mXSgIlW-6Y1q"
   },
   "source": [
    "#### Run Slingshot"
   ]
  },
  {
   "cell_type": "code",
   "execution_count": 0,
   "metadata": {
    "colab": {},
    "colab_type": "code",
    "id": "1EhQrfuC6Y1t"
   },
   "outputs": [],
   "source": [
    "results = scprep.run.Slingshot(data_phate, metadata['cluster'])"
   ]
  },
  {
   "cell_type": "markdown",
   "metadata": {
    "colab_type": "text",
    "id": "tXCbWNnD6Y1y"
   },
   "source": [
    "#### Grab output from `results` dictionary"
   ]
  },
  {
   "cell_type": "code",
   "execution_count": 0,
   "metadata": {
    "colab": {},
    "colab_type": "code",
    "id": "gKEw6UAn6Y1z"
   },
   "outputs": [],
   "source": [
    "results.keys()"
   ]
  },
  {
   "cell_type": "code",
   "execution_count": 0,
   "metadata": {
    "colab": {},
    "colab_type": "code",
    "id": "JflvJrgn6Y13"
   },
   "outputs": [],
   "source": [
    "pseudotime = results['pseudotime']\n",
    "metadata['slingshot1'] = pseudotime.iloc[:,0]\n",
    "metadata['slingshot2'] = pseudotime.iloc[:,1]\n",
    "\n",
    "metadata['slingshot_branch'] = results['branch']"
   ]
  },
  {
   "cell_type": "markdown",
   "metadata": {
    "colab_type": "text",
    "id": "isKRl31q6Y17"
   },
   "source": [
    "#### Plotting the principal curves and branch pseudotimes\n"
   ]
  },
  {
   "cell_type": "code",
   "execution_count": 0,
   "metadata": {
    "colab": {},
    "colab_type": "code",
    "id": "oDylmJIO6Y1-"
   },
   "outputs": [],
   "source": [
    "ax = scprep.plot.scatter2d(data_phate, c=metadata['slingshot_branch'],\n",
    "                 label_prefix='PHATE', ticks=None,\n",
    "                 title='Slingshot Principal Curves',\n",
    "                 figsize=(5,5))\n",
    "\n",
    "# `results['curves']` returns as tensor (an array of arrays)\n",
    "# Each array contains coordinates for the curves in the dimensionality reduced space\n",
    "for curve in results['curves']:\n",
    "    ax.plot(curve[:,0], curve[:,1], c='k', linewidth=3)"
   ]
  },
  {
   "cell_type": "code",
   "execution_count": 0,
   "metadata": {
    "colab": {},
    "colab_type": "code",
    "id": "lWQF70yd6Y2C"
   },
   "outputs": [],
   "source": [
    "fig, axes = plt.subplots(1,2, figsize=(11,5))\n",
    "\n",
    "for i, ax in enumerate(axes):\n",
    "    curr_pseudotime = metadata['slingshot{}'.format(i+1)]\n",
    "    m = ~pd.isnull(curr_pseudotime)\n",
    "    # plot null points as grey\n",
    "    scprep.plot.scatter2d(data_phate[~m], color='grey', s=10,\n",
    "                          ax=ax)    \n",
    "    # plot points on branch\n",
    "    scprep.plot.scatter2d(data_phate[m], c=curr_pseudotime[m], s=10,\n",
    "                         label_prefix='PHATE', ticks=None,\n",
    "                          title='Branch {}'.format(i + 1),\n",
    "                          ax=ax)\n",
    "    \n",
    "fig.tight_layout()"
   ]
  },
  {
   "cell_type": "markdown",
   "metadata": {
    "colab_type": "text",
    "id": "2YhgLf-w6Y2F"
   },
   "source": [
    "## Identifying branch-specific changes in gene expression\n",
    "\n",
    "Now that we have our slingshot results, we can start using `DREMI` to identify genes with strong statistical association with pseudotime on each branch. `DREMI` is an estimate of mutual information designed to work with the sparsity of data in single-cell experiments. There is an implementation of `DREMI` in `scprep` at `scprep.stats.knnDREMI`."
   ]
  },
  {
   "cell_type": "markdown",
   "metadata": {
    "colab_type": "text",
    "id": "J8qL73Co6Y2J"
   },
   "source": [
    "#### Create masks for each of the branches"
   ]
  },
  {
   "cell_type": "code",
   "execution_count": 0,
   "metadata": {
    "colab": {},
    "colab_type": "code",
    "id": "-A1ng44m6Y2J"
   },
   "outputs": [],
   "source": [
    "branch0 = results['branch'] == 0\n",
    "branch1 = results['branch'] == 1 \n",
    "branch2 = results['branch'] == 2"
   ]
  },
  {
   "cell_type": "markdown",
   "metadata": {
    "colab_type": "text",
    "id": "WJV85Ub16Y2N"
   },
   "source": [
    "#### Calculating kNN-DREMI for each branch\n",
    "\n",
    "This will take some time because we calculate kNN-DREMI on all genes three times."
   ]
  },
  {
   "cell_type": "code",
   "execution_count": 0,
   "metadata": {
    "colab": {},
    "colab_type": "code",
    "id": "hZq7V9Ed6Y2O"
   },
   "outputs": [],
   "source": [
    "dremi_branch0 = np.zeros(data.shape[1])\n",
    "dremi_branch1 = np.zeros(data.shape[1])\n",
    "dremi_branch2 = np.zeros(data.shape[1])\n",
    "\n",
    "data_branch0 = data.loc[branch0]\n",
    "data_branch1 = data.loc[branch1]\n",
    "data_branch2 = data.loc[branch2]\n",
    "\n",
    "pseudotime_branch0 = results['pseudotime'].loc[branch0].mean(axis=1)\n",
    "pseudotime_branch1 = results['pseudotime'].loc[branch1][0]\n",
    "pseudotime_branch2 = results['pseudotime'].loc[branch2][1]\n",
    "\n",
    "for i, gene in enumerate(data):\n",
    "    dremi_branch0[i] = scprep.stats.knnDREMI(pseudotime_branch0, data_branch0[gene])\n",
    "    dremi_branch1[i] = scprep.stats.knnDREMI(pseudotime_branch1, data_branch1[gene])\n",
    "    dremi_branch2[i] = scprep.stats.knnDREMI(pseudotime_branch2, data_branch2[gene])"
   ]
  },
  {
   "cell_type": "markdown",
   "metadata": {
    "colab_type": "text",
    "id": "VpiPXmyz6Y2T"
   },
   "source": [
    "#### Calculate the difference between DREMI scores on branch 1 and branch 2\n",
    "How do you calculate the difference between the branch1 and branch2 DREMI scores?"
   ]
  },
  {
   "cell_type": "code",
   "execution_count": 0,
   "metadata": {
    "colab": {},
    "colab_type": "code",
    "id": "m_nNaIaa6Y2U"
   },
   "outputs": [],
   "source": [
    "# ===========\n",
    "# Subtract branch 2 from branch 1 and take the absolute value\n",
    "diff = \n",
    "# ==========="
   ]
  },
  {
   "cell_type": "markdown",
   "metadata": {
    "colab_type": "text",
    "id": "PKU0l9FT6Y2X"
   },
   "source": [
    "#### Get the genes with highest association with each branch\n",
    "\n",
    "You will need to write the code to concatenate the arrays"
   ]
  },
  {
   "cell_type": "code",
   "execution_count": 0,
   "metadata": {
    "colab": {},
    "colab_type": "code",
    "id": "PvVkNv6z6Y2Z"
   },
   "outputs": [],
   "source": [
    "branch0_genes = data.columns[np.argsort(dremi_branch0)[::-1][:30]]\n",
    "# Here we sort by the difference in DREMI scores to get the most negative values\n",
    "branch1_genes = data.columns[np.argsort(diff)[::-1][:10]]\n",
    "\n",
    "# Here we sort by the difference in DREMI scores to get the largest values\n",
    "branch2_genes = data.columns[np.argsort(diff)[:10]]\n",
    "\n",
    "# ========\n",
    "# Add code to concatenate the lists of genes for each branch\n",
    "# Make sure the output is a 1-dimensional array\n",
    "interesting_genes = \n",
    "# ========"
   ]
  },
  {
   "cell_type": "markdown",
   "metadata": {
    "colab_type": "text",
    "id": "FVmeqeDO6Y2d"
   },
   "source": [
    "#### Reordering the dataset by branch"
   ]
  },
  {
   "cell_type": "code",
   "execution_count": 0,
   "metadata": {
    "colab": {},
    "colab_type": "code",
    "id": "2meXg7qh6Y2f"
   },
   "outputs": [],
   "source": [
    "pseudotime_order = np.zeros(data.shape[0], dtype=int)\n",
    "raw_indices = np.arange(data.shape[0], dtype=int)\n",
    "\n",
    "block_masks = [branch0, (branch1 & ~branch2), (branch2 & ~branch1)]\n",
    "\n",
    "block_start = 0\n",
    "for block_mask in block_masks:\n",
    "    block_len = np.sum(block_mask)\n",
    "    block_end = block_start + block_len\n",
    "    pseudotime_order[block_start:block_end] = raw_indices[block_mask][np.argsort(results['pseudotime'].loc[block_mask].sum(axis=1))]\n",
    "    block_start = block_end"
   ]
  },
  {
   "cell_type": "markdown",
   "metadata": {
    "colab_type": "text",
    "id": "AVq1rJkt6Y2j"
   },
   "source": [
    "#### Creating a `clustermap` of the top genes\n",
    "\n",
    "Here, you'll need to add code to calculate the average pseudotime for each point."
   ]
  },
  {
   "cell_type": "code",
   "execution_count": 0,
   "metadata": {
    "colab": {},
    "colab_type": "code",
    "id": "-Q3JqpXT6Y2k"
   },
   "outputs": [],
   "source": [
    "# Creating colors for each column\n",
    "branch_cmap = {0:'#a6cee3', 1:'#1f78b4', 2:'#b2df8a'}\n",
    "branch_colors = np.array([branch_cmap[b] for b in results['branch']])\n",
    "\n",
    "# =======\n",
    "# Add code to alculate average pseudotime per cell here\n",
    "mean_pseudotime = \n",
    "\n",
    "# =======\n",
    "pseudotime_colors = plt.cm.inferno(mean_pseudotime/np.max(mean_pseudotime))\n",
    "\n",
    "cg = sns.clustermap(data.iloc[pseudotime_order][interesting_genes].T, \n",
    "               col_colors=[branch_colors[pseudotime_order], pseudotime_colors[pseudotime_order]], \n",
    "                    col_cluster=False,\n",
    "                   yticklabels=data.iloc[pseudotime_order][interesting_genes].T.index,\n",
    "                   xticklabels=[])\n",
    "\n",
    "cg.ax_heatmap.set_xlabel('Cells', fontsize=18)\n",
    "\n",
    "cg.fig.set_size_inches(15,15)"
   ]
  },
  {
   "cell_type": "markdown",
   "metadata": {
    "colab_type": "text",
    "id": "9fGrJFHo6Y2n"
   },
   "source": [
    "## Gene set enrichment\n",
    "\n",
    "Although this heatmap is nice and interesting, it is also important to make sure that these genes are biologically interesting. Now, we're going to use `EnrichR` to perform gene set enrichment on the genes that are unique to each branch. There are many ways to perform gene set enrichement analysis, but we're going to focus on `EnrichR`. The following test from [Chen E, et al. BMC Bioinformatics (2013)](https://doi.org/10.1186/1471-2105-14-128) describes how EnrichR calculates gene set enrichement.\n",
    "\n",
    "> **Computing enrichment**  \n",
    "Enrichr implements three approaches to compute enrichment. The first one is a standard method implemented within most enrichment analysis tools: the Fisher exact test. This is a proportion test that assumes a binomial distribution and independence for probability of any gene belonging to any set. The second test is a correction to the Fisher exact test that we developed based on intuition. We first compute enrichment using the Fisher exact test for many random input gene lists in order to compute a mean rank and standard deviation from the expected rank for each term in each gene-set library. Then, using a lookup table of expected ranks with their variances, we compute a z-score for deviation from this expected rank, this can be a new corrected score for ranking terms. Alternatively, we combined the p-value computed using the Fisher exact test with the z-score of the deviation from the expected rank by multiplying these two numbers as follows:\n",
    "\n",
    "$$c=log(p)\\cdot z$$\n",
    "\n",
    ">Where $c$ is the combined score, $p$ is the p-value computed using the Fisher exact test, and $z$ is the z-score computed by assessing the deviation from the expected rank. Enrichr provides all three options for sorting enriched terms. In the results section, we show how we evaluated the quality of each of these three enrichment methods by examining how the methods rank terms that we know should be highly ranked.\n",
    "\n",
    "### Getting gene sets from https://amp.pharm.mssm.edu/Enrichr/\n",
    "In this exercise, we're going to leave colab for a little bit to introduce you to the HTML5 version of EnrichR. \n",
    "\n",
    "1. For each branch, get a list of 100 \"interesting\" genes [as calculated above](#Get-the-genes-with-highest-association-with-each-branch).\n",
    "2. Print out the list in the following code block\n",
    "3. Copy the gene symbols\n",
    "4. Copy them into https://amp.pharm.mssm.edu/Enrichr/\n",
    "5. Examine gene set enrichment for each Gene Ontology (GO) category under the \"Ontologies\" tab\n",
    "\n",
    "Using these lists, can you determine which branch is the differentiating muscle cells and the differentiating neurons?"
   ]
  },
  {
   "cell_type": "code",
   "execution_count": 0,
   "metadata": {
    "colab": {},
    "colab_type": "code",
    "id": "Zm7gB6Wb6Y2o"
   },
   "outputs": [],
   "source": [
    "for gene in branch0_genes:\n",
    "    print(gene)"
   ]
  },
  {
   "cell_type": "markdown",
   "metadata": {
    "colab_type": "text",
    "id": "xSGSsDu76Y2r"
   },
   "source": [
    "### Running EnrichR from gseapy\n",
    "\n",
    "There is also a handy tool for performing GSEA in Python called `gseapy`. Documentation for the tool is available at: https://gseapy.readthedocs.io/en/master/"
   ]
  },
  {
   "cell_type": "markdown",
   "metadata": {
    "colab_type": "text",
    "id": "J8jS50MM6Y2t"
   },
   "source": [
    "#### Getting the enrichement for all the \"interesting genes\" used in the heatmap above"
   ]
  },
  {
   "cell_type": "code",
   "execution_count": 0,
   "metadata": {
    "colab": {},
    "colab_type": "code",
    "id": "3kJgmsQ46Y2t"
   },
   "outputs": [],
   "source": [
    "# gseapy needs the gene list as a list, not np.array\n",
    "gene_list = list(interesting_genes)\n",
    "gseapy.enrichr(gene_list, 'GO_Biological_Process_2018', outdir='Enrichr')\n",
    "# Load the output into a DataFrame\n",
    "enrichr_results = pd.read_csv('./Enrichr/GO_Biological_Process_2018..enrichr.reports.txt', sep='\\t')"
   ]
  },
  {
   "cell_type": "markdown",
   "metadata": {
    "colab_type": "text",
    "id": "Tz2Wv1K-6Y2y"
   },
   "source": [
    "#### Examining the output table\n",
    "\n",
    "What do you notice about the genes enriched in each category? How does overlap affect the Combined Score?"
   ]
  },
  {
   "cell_type": "code",
   "execution_count": 0,
   "metadata": {
    "colab": {},
    "colab_type": "code",
    "id": "tbg1XiAS6Y20"
   },
   "outputs": [],
   "source": [
    "enrichr_results = enrichr_results.sort_values('Combined Score', ascending=False).reset_index(drop=True)\n",
    "enrichr_results.head()"
   ]
  },
  {
   "cell_type": "markdown",
   "metadata": {
    "colab_type": "text",
    "id": "y-000LMd6Y26"
   },
   "source": [
    "#### Plot a bar chart of the  10 highest Combined Score values\n",
    "\n",
    "You'll need to add code for:\n",
    "1. Select the first 10 rows of the DataFrame\n",
    "2. Getting the `'Combined Score'` from the `row` variable\n",
    "3. Completing the command to `ax.bar` to get a **vertical** bar chart."
   ]
  },
  {
   "cell_type": "code",
   "execution_count": 0,
   "metadata": {
    "colab": {},
    "colab_type": "code",
    "id": "AUH3UWhB6Y26"
   },
   "outputs": [],
   "source": [
    "fig, ax = plt.subplots(1, figsize=(10,8))\n",
    "# ======\n",
    "# Select the first 10 rows from `enrichr_results`\n",
    "top_genes = \n",
    "ticks = []\n",
    "ticklabels = []\n",
    "\n",
    "for i, row in top_genes.iterrows():\n",
    "    # Get the 'Combined Score' value from the row\n",
    "    combined_score =\n",
    "    ax.bar(x= , y= , color='red')\n",
    "\n",
    "    # Append the x position to the ticks list\n",
    "    ticks.append(i)\n",
    "    # Append the 'term' column to the ticklabels list\n",
    "    ticklabels.append(row['Term'])\n",
    "\n",
    "ax.set_xticks(ticks)\n",
    "ax.set_xticklabels(ticklabels, rotation=45, ha='right', fontsize=16)\n",
    "# ======"
   ]
  }
 ],
 "metadata": {
  "colab": {
   "name": "00_Gene_Relationships_in_Treutlein_data.ipynb",
   "provenance": []
  },
  "kernelspec": {
   "display_name": "Python 3",
   "language": "python",
   "name": "python3"
  },
  "language_info": {
   "codemirror_mode": {
    "name": "ipython",
    "version": 3
   },
   "file_extension": ".py",
   "mimetype": "text/x-python",
   "name": "python",
   "nbconvert_exporter": "python",
   "pygments_lexer": "ipython3",
   "version": "3.7.7"
  }
 },
 "nbformat": 4,
 "nbformat_minor": 1
}
