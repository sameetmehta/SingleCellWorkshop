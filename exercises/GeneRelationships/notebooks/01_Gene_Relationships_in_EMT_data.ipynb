{
 "cells": [
  {
   "cell_type": "code",
   "execution_count": null,
   "metadata": {
    "colab": {
     "base_uri": "https://localhost:8080/",
     "height": 382
    },
    "colab_type": "code",
    "id": "1p2L2FmU5zDT",
    "outputId": "fb2f73ec-8818-4e85-f835-3cc9ebb3c47b"
   },
   "outputs": [],
   "source": [
    "!pip install --user scprep phate magic-impute"
   ]
  },
  {
   "cell_type": "code",
   "execution_count": 1,
   "metadata": {
    "colab": {
     "base_uri": "https://localhost:8080/",
     "height": 729
    },
    "colab_type": "code",
    "id": "7GcQAR2N9m6Q",
    "outputId": "88fa8816-5fb8-4103-ee52-610cf12f6d46"
   },
   "outputs": [],
   "source": [
    "import scprep"
   ]
  },
  {
   "cell_type": "code",
   "execution_count": null,
   "metadata": {
    "colab": {
     "base_uri": "https://localhost:8080/",
     "height": 729
    },
    "colab_type": "code",
    "id": "7GcQAR2N9m6Q",
    "outputId": "88fa8816-5fb8-4103-ee52-610cf12f6d46"
   },
   "outputs": [],
   "source": [
    "scprep.io.download.download_google_drive('1VuddKA7Xa23NAFKvRUmtuND16eEMHL9z', '/content/r_packages.tar.gz')\n",
    "!tar xzf /content/r_packages.tar.gz && rm /content/r_packages.tar.gz\n",
    "!pip install --user --upgrade rpy2\n",
    "!apt-get install -yqq libgsl-dev=2.4+dfsg-6\n",
    "!echo \"R_LIBS_USER='/content/.r_packages'\" >> ~/.Renviron\n",
    "!R -e \"BiocManager::install('splatter')\""
   ]
  },
  {
   "cell_type": "code",
   "execution_count": null,
   "metadata": {
    "colab": {},
    "colab_type": "code",
    "id": "KwkiXqTa5zDh"
   },
   "outputs": [],
   "source": [
    "import os\n",
    "\n",
    "import matplotlib.pyplot as plt\n",
    "import seaborn as sns\n",
    "%matplotlib inline\n",
    "\n",
    "plt.rc('font', size=12)\n",
    "\n",
    "import numpy as np\n",
    "import pandas as pd\n",
    "\n",
    "import scipy.stats\n",
    "\n",
    "import sklearn\n",
    "import sklearn.cluster\n",
    "import sklearn.datasets\n",
    "\n",
    "import phate\n",
    "import scprep\n",
    "import magic\n",
    "import graphtools as gt"
   ]
  },
  {
   "cell_type": "markdown",
   "metadata": {
    "colab_type": "text",
    "id": "cuos0efv5zDq"
   },
   "source": [
    "## Identifying gene-regulatory relationships during EMT\n",
    "\n",
    "In this exercise, we will recreate some of the analysis from [van Dijk et al. (2018)](https://doi.org/10.1016/j.cell.2018.05.061). We will focus on the dataset collected from mammary epithelial cells (HMLE) induced with transforming growth factor β (TGF-β). TGF-β induces HMLE cells to undergo the epithelial-to-mesenchymal transition (EMT), which is an important transition during development and the progression of cancer. During EMT, cells downregulate epithelial markers (such as E-cadherin (CDH1) and epcam (EPCAM)) and upregulate mesenchymal markers (such as vimentin (VIM), fibronectin (FN1) and N-cadherin (CDH2). \n",
    "\n",
    "In this experiment, cells were induced with TGF-β for 8 days and then collected for scRNA-seq using inDrops. Because EMT is asynchronous, we observe cells at many stages of differentiation in this dataset. Instead of using a pseudotime tool, we will use VIM as a marker of the EMT progression. We will identify genes that are EMT-relevant as those with a strong association with VIM. From these, we will focus on predicting targets of the transcription factor ZEB1 based on 1) timing of expression and 2) statistical association with ZEB1.\n"
   ]
  },
  {
   "cell_type": "markdown",
   "metadata": {
    "colab_type": "text",
    "id": "BOfWLbST5zDs"
   },
   "source": [
    "## Loading and visualizing the data"
   ]
  },
  {
   "cell_type": "markdown",
   "metadata": {
    "colab_type": "text",
    "id": "rzuQ14mU5zDu"
   },
   "source": [
    "#### Download data from Google Drive\n",
    "\n",
    "This data is already filtered and preprocessed so we can directly start examining gene trends."
   ]
  },
  {
   "cell_type": "code",
   "execution_count": null,
   "metadata": {
    "colab": {},
    "colab_type": "code",
    "id": "Ad_3LZUc5zDw"
   },
   "outputs": [],
   "source": [
    "download_path = os.path.expanduser('~/Peer_2015_EMT_data.filtered.pkl.gz')\n",
    "\n",
    "# Download the data \n",
    "if not os.path.exists(download_path):\n",
    "    scprep.io.download.download_google_drive('1FoH0acPMVrGjMvjlIe9R-oa-UdZG2Dmj', download_path)\n",
    "    \n",
    "data = pd.read_pickle(download_path)"
   ]
  },
  {
   "cell_type": "markdown",
   "metadata": {
    "colab_type": "text",
    "id": "FwDS71CE5zD1"
   },
   "source": [
    "#### Generating a  PHATE plot"
   ]
  },
  {
   "cell_type": "code",
   "execution_count": null,
   "metadata": {
    "colab": {
     "base_uri": "https://localhost:8080/",
     "height": 416
    },
    "colab_type": "code",
    "id": "VoMDRCIi5zD3",
    "outputId": "48ce136b-56d4-431e-d5e2-6418a60e16d3"
   },
   "outputs": [],
   "source": [
    "phate_op = phate.PHATE()\n",
    "\n",
    "data_phate = phate_op.fit_transform(data)"
   ]
  },
  {
   "cell_type": "markdown",
   "metadata": {
    "colab_type": "text",
    "id": "KhGwUcdI5zD7"
   },
   "source": [
    "#### Running MAGIC"
   ]
  },
  {
   "cell_type": "code",
   "execution_count": null,
   "metadata": {
    "colab": {
     "base_uri": "https://localhost:8080/",
     "height": 243
    },
    "colab_type": "code",
    "id": "hHvuKc3F5zD9",
    "outputId": "417ee2fb-8019-47f8-faee-5aed9a310649"
   },
   "outputs": [],
   "source": [
    "data_magic = magic.MAGIC(t=4).fit_transform(data)"
   ]
  },
  {
   "cell_type": "markdown",
   "metadata": {
    "colab_type": "text",
    "id": "HLVm-hEd5zED"
   },
   "source": [
    "#### Plotting marker genes of EMT\n",
    "\n",
    "Here we'll focus on four markers of EMT. Try plotting expression both before and after MAGIC.\n",
    "\n",
    "**Discussion**: Which parts of the plot corresponds to the epithelial/intermediate/mesenchymal states?"
   ]
  },
  {
   "cell_type": "code",
   "execution_count": null,
   "metadata": {
    "colab": {},
    "colab_type": "code",
    "id": "aiu7NzyC5zEG",
    "outputId": "c94e5b0d-f17e-4331-a418-d94ad96bc705"
   },
   "outputs": [],
   "source": [
    "fig, axes = plt.subplots(2,2,figsize=(8,8))\n",
    "\n",
    "genes = ['CDH1','EPCAM', 'VIM', 'CDH2']\n",
    "for i, ax in enumerate(axes.flatten()):\n",
    "    # Select the i'th gene from genes\n",
    "    curr_gene =\n",
    "    # Select the column of `data` for `curr_gene`\n",
    "    expression = \n",
    "    scprep.plot.scatter2d(data_phate, c=expression, title=curr_gene, ax=ax)\n",
    "\n",
    "fig.tight_layout()"
   ]
  },
  {
   "cell_type": "markdown",
   "metadata": {
    "colab_type": "text",
    "id": "-f7V3VnT5zEL"
   },
   "source": [
    "### Creating DREMI/DREVI plots \n",
    "\n",
    "Here, we'll use `scprep.stats.knnDREMI` with `plot=True` to show the trend of several genes with VIM. This function will create four plots.\n",
    "\n",
    "**Input data** - This is a simple scatter plot of the input data  \n",
    "**kNN Density** - knnDREMI estimates density within each gridsquare based on the distance to the k-NearestNeighbor. The farther the neighbor, the lower the density. Yellow indicates high density, and black indicates low density.  \n",
    "**Joint Probability** - This is the density estimate traditionally used in estimating mutual information (MI). It is not resampled, and the sum of all color values in the whole plot equals 1. Notice how sparse areas of the data are almost entirely black.  \n",
    "**Conditional Probability** - This is the density-resampled joint probability. Here, the values in each column sum to 1. These are the values use to calculate DREMI.  \n",
    "\n",
    "Try plotting genes from the following list: `MYC`, `SNAI2`, `ZEB1`"
   ]
  },
  {
   "cell_type": "code",
   "execution_count": null,
   "metadata": {
    "colab": {
     "base_uri": "https://localhost:8080/",
     "height": 274
    },
    "colab_type": "code",
    "id": "9eFyRaN65zEM",
    "outputId": "b2516f67-9262-462c-8e00-c9838dac3efd"
   },
   "outputs": [],
   "source": [
    "gene_x = 'VIM'\n",
    "gene_y = 'MYC'\n",
    "\n",
    "scprep.stats.knnDREMI(data_magic[gene_x], data_magic[gene_y], \n",
    "                      xlabel=gene_x, ylabel=gene_y, plot=True)"
   ]
  },
  {
   "cell_type": "markdown",
   "metadata": {
    "colab_type": "text",
    "id": "BDWYGnbG5zER"
   },
   "source": [
    "### Discussion\n",
    "\n",
    "1. What do you notice about the difference between the DREMI plot on the right and the joint probability? \n",
    "2. Which gene trends might have high DREMI values, but low correlation?"
   ]
  },
  {
   "cell_type": "markdown",
   "metadata": {
    "colab_type": "text",
    "id": "GO-FUxrh5zES"
   },
   "source": [
    "# Identifying EMT-relevant genes using DREMI\n",
    "\n",
    "In this section, we will identify genes that likely play a role in EMT due to their strong association with VIM. We will take the top 67% (2/3 rd) of genes and then cluster them to identify genes with similar DREVI plots so that we can determine their peak expression. We will use these orderings to narrow putative ZEB1 targets to genes that have peak expression with or after ZEB1. "
   ]
  },
  {
   "cell_type": "markdown",
   "metadata": {
    "colab_type": "text",
    "id": "l5D-UeGv5zEU"
   },
   "source": [
    "### Calculating DREMI scores\n",
    "\n",
    "In this next code block, we use a tool called `joblib` to run DREMI across multiple threads and speed up the DREMI computation. The syntax for `joblib` is complicated, so we won't go into it. If you'd like to learn more about parallel processing and `joblib`, check out their excellent documentation: https://joblib.readthedocs.io/en/latest/parallel.html.\n",
    "\n",
    "**Note:** to save time, we precomputed DREMI for you. You can uncomment the following code block to run the code yourself. It takes around 15 minutes in colab."
   ]
  },
  {
   "cell_type": "code",
   "execution_count": null,
   "metadata": {
    "colab": {},
    "colab_type": "code",
    "id": "jG7MLPEH5zEW"
   },
   "outputs": [],
   "source": [
    "# # This is basically a parallel for-loop\n",
    "# # Note we are getting both the DREMI scores and DREVI plots here so we need to unpack them\n",
    "# from joblib import Parallel, delayed\n",
    "# results = Parallel(n_jobs=4)(delayed(scprep.stats.knnDREMI)(data_magic['VIM'], data_magic[g], \n",
    "#                                      return_drevi=True, n_jobs=1) for g in data_magic.columns)\n",
    "# \n",
    "# # Unpacking the DREMI scores and DREVI images\n",
    "# vim_dremi_scores = np.array([r[0] for r in results])\n",
    "# vim_drevi_images = np.array([r[1].flatten() for r in results])"
   ]
  },
  {
   "cell_type": "markdown",
   "metadata": {
    "colab_type": "text",
    "id": "iWrpscUV5zEb"
   },
   "source": [
    "#### Download precomputed DREMI results\n",
    "\n",
    "DREMI is not particularly fast, and CoLab instances are fairly slow, so we already computed some DREMI relationships between all genes and VIM and all genes and ZEB1. This takes around 15 minutes in CoLab."
   ]
  },
  {
   "cell_type": "code",
   "execution_count": null,
   "metadata": {
    "colab": {},
    "colab_type": "code",
    "id": "UwgY_PoD5zEc"
   },
   "outputs": [],
   "source": [
    "download_path = os.path.expanduser('~/Peer_2015_DREMI_data.npz')\n",
    "\n",
    "# Download the data \n",
    "if not os.path.exists(download_path):\n",
    "    scprep.io.download.download_google_drive('1M21Z05omo_X5QIhQ8D07Tom31eo5-Ol8', download_path)\n",
    "    \n",
    "d = np.load(download_path)\n",
    "vim_dremi_scores = d['vim_dremi_scores']\n",
    "vim_drevi_images = d['vim_drevi_images']\n",
    "zeb1_dremi_scores = d['zeb1_dremi_scores']"
   ]
  },
  {
   "cell_type": "markdown",
   "metadata": {
    "colab_type": "text",
    "id": "FnT3UTUh5zEf"
   },
   "source": [
    "### Setting the threshold for EMT-related genes\n",
    "\n",
    "Try changing the percentile and see how that affects your predictions."
   ]
  },
  {
   "cell_type": "code",
   "execution_count": null,
   "metadata": {
    "colab": {
     "base_uri": "https://localhost:8080/",
     "height": 310
    },
    "colab_type": "code",
    "id": "tQ9CjWIz5zEi",
    "outputId": "9015a098-f43c-4932-88c8-f216936ae7ca"
   },
   "outputs": [],
   "source": [
    "emt_cutoff = np.percentile(vim_dremi_scores, q=33)\n",
    "scprep.plot.histogram(vim_dremi_scores, percentile=33, title='DREMI cutoff = {:.2f}'.format(emt_cutoff))"
   ]
  },
  {
   "cell_type": "markdown",
   "metadata": {
    "colab_type": "text",
    "id": "TMPRXb3l5zEm"
   },
   "source": [
    "#### Create a mask over the genes for those above our threshold"
   ]
  },
  {
   "cell_type": "code",
   "execution_count": null,
   "metadata": {
    "colab": {},
    "colab_type": "code",
    "id": "OdNtwy8N5zEm"
   },
   "outputs": [],
   "source": [
    "emt_related_genes_mask = vim_dremi_scores > emt_cutoff"
   ]
  },
  {
   "cell_type": "markdown",
   "metadata": {
    "colab_type": "text",
    "id": "G9-CR25b5zEr"
   },
   "source": [
    "### Plotting the DREVI plots for the genes with the highest and smallest DREMI scores\n",
    "\n",
    "Do these values look correct? Try selecting a gene in the middle of the distribution and examining that plot. "
   ]
  },
  {
   "cell_type": "code",
   "execution_count": null,
   "metadata": {
    "colab": {
     "base_uri": "https://localhost:8080/",
     "height": 254
    },
    "colab_type": "code",
    "id": "nW0YwRD45zEs",
    "outputId": "8297856a-c23c-4ef0-ca0d-4988d269a0ab"
   },
   "outputs": [],
   "source": [
    "fig, axes = plt.subplots(1,2, figsize=(8,4))\n",
    "\n",
    "ixs = [0, -2]\n",
    "ordered_gene_indices = np.argsort(vim_dremi_scores)\n",
    "\n",
    "for i, ax in enumerate(axes):\n",
    "    curr_ix = ixs[i]\n",
    "    ax.imshow(vim_drevi_images[ordered_gene_indices[curr_ix]].reshape(20,20), origin='lower')\n",
    "    ax.set_xticks([]); ax.set_yticks([]);\n",
    "    ax.set_xlabel('VIM')\n",
    "    ax.set_ylabel(data.columns.values[curr_ix])"
   ]
  },
  {
   "cell_type": "markdown",
   "metadata": {
    "colab_type": "text",
    "id": "_7NrTvcM5zEw"
   },
   "source": [
    "#### Create a mask over the genes for those above our threshold"
   ]
  },
  {
   "cell_type": "code",
   "execution_count": null,
   "metadata": {
    "colab": {},
    "colab_type": "code",
    "id": "Zh9sovcb5zEx"
   },
   "outputs": [],
   "source": [
    "emt_related_genes_mask = vim_dremi_scores > emt_cutoff"
   ]
  },
  {
   "cell_type": "markdown",
   "metadata": {
    "colab_type": "text",
    "id": "6Na62NO55zE0"
   },
   "source": [
    "### Clustering genes by average DREVI images\n",
    "\n",
    "To identify clusters of genes, we're going to use `AgglomerativeClustering`, a kind of hierarchical clustering method that iteratively joins the two points (or clusters) with the highest `affinity`. We are using `complete` linkage, which calculates the distance between two clusters that are being considered for merging using the two elements within each cluster with the largest distance between them. This process is repeated until `n_clusters` has been identified. Because van Dijk et al. (2018) identified 22 clusters, we're going to start with that.\n",
    "\n",
    "You might be wondering, how do you cluster images? The answer is that we first flatten them, so we take the data from $\\mathbb{R}^{20,20}$ and collapse them into $\\mathbb{R}^{400}$. This loses some information about the grid-nature of the data, but it makes clustering much more straightforward. This is what Google probably does if they want to identify similar images for your Google Images search."
   ]
  },
  {
   "cell_type": "markdown",
   "metadata": {
    "colab_type": "text",
    "id": "4gOuCvAs5zE1"
   },
   "source": [
    "#### Running `AgglomerativeClustering`\n",
    "\n",
    "This make take around a minute to complete."
   ]
  },
  {
   "cell_type": "code",
   "execution_count": null,
   "metadata": {
    "colab": {},
    "colab_type": "code",
    "id": "uXpapTY55zE3"
   },
   "outputs": [],
   "source": [
    "agg_op = sklearn.cluster.AgglomerativeClustering(n_clusters=22, affinity='correlation', linkage='complete')\n",
    "clusters = agg_op.fit_predict(vim_drevi_images[emt_related_genes_mask])"
   ]
  },
  {
   "cell_type": "markdown",
   "metadata": {
    "colab_type": "text",
    "id": "DfKxYJ425zE8"
   },
   "source": [
    "### Computing the \"average\" DREVI plot\n",
    "\n",
    "Within each cluster, we are going to compute the \"average\" or mean DREVI plot. You may be most familiar with the arithmetic mean, but there are a number of other ways to calculate the mean. Here, we will use the geometric mean, which is defined as follows:\n",
    "\n",
    "$$\\sqrt[\\leftroot{0}\\uproot{2}\\LARGE{n}]{\\prod_{i=0}^{i=n}X_i}$$\n",
    "\n",
    "You may notice the similarity between this an the arithmetic mean. Instead of adding the values and dividing by the number of observations, we are multiplying the values and taking the $n$th-root. This has the result of being less sensitive to extreme values in the data than the arithmetic mean. For a good explanation on the geometric mean, read Jasper McChesney's [\"You should summarize data with the geometric mean\"](https://medium.com/@JLMC/understanding-three-simple-statistics-for-data-visualizations-2619dbb3677a)."
   ]
  },
  {
   "cell_type": "markdown",
   "metadata": {
    "colab_type": "text",
    "id": "rwkCf9An5zE8"
   },
   "source": [
    "#### Calculating geometric mean DREVI plot for each cluster"
   ]
  },
  {
   "cell_type": "code",
   "execution_count": null,
   "metadata": {
    "colab": {},
    "colab_type": "code",
    "id": "VEiaWsAD5zE-"
   },
   "outputs": [],
   "source": [
    "mean_drevi = {}\n",
    "for cl in np.unique(clusters):\n",
    "    # Select images for the current cluster\n",
    "    curr_images = vim_drevi_images[emt_related_genes_mask][clusters == cl]\n",
    "    \n",
    "    # Calculate the geometric mean\n",
    "    mean_drevi[cl] = scipy.stats.gmean(curr_images, axis=0)"
   ]
  },
  {
   "cell_type": "markdown",
   "metadata": {
    "colab_type": "text",
    "id": "iKj0odQY5zFB"
   },
   "source": [
    "#### Plot the average DREVI plot\n",
    "\n",
    "Let's look at the average DREVI plot per cluster."
   ]
  },
  {
   "cell_type": "code",
   "execution_count": null,
   "metadata": {
    "colab": {
     "base_uri": "https://localhost:8080/",
     "height": 1000
    },
    "colab_type": "code",
    "id": "fKTFMhs_5zFD",
    "outputId": "5ca58878-41cc-4497-f1e5-1059a83ae785"
   },
   "outputs": [],
   "source": [
    "fig, axes = plt.subplots(6,4, figsize=(4*3,6*3))\n",
    "\n",
    "for curr_cluster, ax in enumerate(axes.flatten()):\n",
    "    if curr_cluster >= 22:\n",
    "        ax.axis('off')\n",
    "        continue\n",
    "    curr_drevi = mean_drevi[curr_cluster].reshape(20,20)\n",
    "    \n",
    "    curr_n = np.sum(clusters == curr_cluster)\n",
    "    ax.imshow(curr_drevi, origin='lower', cmap='inferno')\n",
    "    ax.set_xticks([]); ax.set_yticks([])\n",
    "    ax.set_title('Cluster {} - ({})'.format(curr_cluster, curr_n))\n",
    "    \n",
    "fig.tight_layout()"
   ]
  },
  {
   "cell_type": "markdown",
   "metadata": {
    "colab_type": "text",
    "id": "fZZJGotA5zFH"
   },
   "source": [
    "### Ordering clusters by peak expression\n",
    "\n",
    "Note that the clusters here are in no particular order. To order them by peak expression, we're going to take a simple approach. In each column, we will take the gridsquare with the highest intensity as the \"average\" expression for that gene cluster. With that in hand, we only need to identify the column with the peak expression based on the y-axis."
   ]
  },
  {
   "cell_type": "markdown",
   "metadata": {
    "colab_type": "text",
    "id": "Xq5sYnLE5zFI"
   },
   "source": [
    "#### Plotting the \"average\" expression for one cluster"
   ]
  },
  {
   "cell_type": "code",
   "execution_count": null,
   "metadata": {
    "colab": {
     "base_uri": "https://localhost:8080/",
     "height": 365
    },
    "colab_type": "code",
    "id": "mYBfHAHe5zFK",
    "outputId": "275c6354-5644-4af6-899c-cd9f37da2bd8"
   },
   "outputs": [],
   "source": [
    "fig, ax = plt.subplots(1, figsize=(5,5))\n",
    "\n",
    "# Pick your favorite cluster\n",
    "curr_cluster = 19\n",
    "curr_drevi = mean_drevi[curr_cluster].reshape(20,20)\n",
    "\n",
    "# Plot DREVI\n",
    "curr_n = np.sum(clusters == curr_cluster)\n",
    "ax.imshow(curr_drevi, origin='lower', cmap='inferno')\n",
    "ax.set_xticks([]); ax.set_yticks([])\n",
    "ax.set_title('Cluster {} - ({})'.format(curr_cluster, curr_n))\n",
    "\n",
    "# Plot the \"average expression\" and ID the peak\n",
    "x = np.arange(20)\n",
    "y = np.argmax(curr_drevi, axis=0)\n",
    "x_peak = np.argmax(y)\n",
    "y_peak = np.max(y)\n",
    "ax.plot(x,y, c='r', linewidth=5)\n",
    "ax.scatter(x_peak, y_peak, edgecolor='k', color='lightgrey', s=100, zorder=10)\n",
    "ax.set_xlim(0,19)\n",
    "\n",
    "fig.tight_layout()"
   ]
  },
  {
   "cell_type": "markdown",
   "metadata": {
    "colab_type": "text",
    "id": "rJO5u9Tv5zFO"
   },
   "source": [
    "#### Calculate peaks for all clusters"
   ]
  },
  {
   "cell_type": "code",
   "execution_count": null,
   "metadata": {
    "colab": {},
    "colab_type": "code",
    "id": "3vyKjo5V5zFO"
   },
   "outputs": [],
   "source": [
    "peaks = {}\n",
    "\n",
    "for curr_cluster in np.unique(clusters):\n",
    "\n",
    "    curr_drevi = mean_drevi[curr_cluster].reshape(20,20)\n",
    "       \n",
    "    x = np.arange(20)\n",
    "    y = np.argmax(curr_drevi, axis=0)\n",
    "    x_peak = np.argmax(y)\n",
    "    y_peak = np.max(y)\n",
    "\n",
    "    peaks[curr_cluster] = x_peak"
   ]
  },
  {
   "cell_type": "markdown",
   "metadata": {
    "colab_type": "text",
    "id": "3uCJPCxh5zFR"
   },
   "source": [
    "#### Reorder the cluster labels so that cluster `0` has the earliest peak and cluster `22` has the latest"
   ]
  },
  {
   "cell_type": "code",
   "execution_count": null,
   "metadata": {
    "colab": {},
    "colab_type": "code",
    "id": "p1NCAFdd5zFS"
   },
   "outputs": [],
   "source": [
    "clusters = scprep.utils.sort_clusters_by_values(clusters, np.array([peaks[cl] for cl in clusters]))"
   ]
  },
  {
   "cell_type": "markdown",
   "metadata": {
    "colab_type": "text",
    "id": "rEmhr7ru5zFV"
   },
   "source": [
    "#### Recalculate `mean_drevi` and `peaks`"
   ]
  },
  {
   "cell_type": "code",
   "execution_count": null,
   "metadata": {
    "colab": {},
    "colab_type": "code",
    "id": "hZUXfJu25zFV"
   },
   "outputs": [],
   "source": [
    "mean_drevi = {}\n",
    "for cl in np.unique(clusters):\n",
    "    curr_images = vim_drevi_images[emt_related_genes_mask][clusters == cl]\n",
    "    mean_drevi[cl] = scipy.stats.gmean(curr_images, axis=0)"
   ]
  },
  {
   "cell_type": "code",
   "execution_count": null,
   "metadata": {
    "colab": {},
    "colab_type": "code",
    "id": "0OQlrXOl5zFb"
   },
   "outputs": [],
   "source": [
    "peaks = {}\n",
    "\n",
    "for curr_cluster in np.unique(clusters):\n",
    "\n",
    "    curr_drevi = mean_drevi[curr_cluster].reshape(20,20)\n",
    "       \n",
    "    x = np.arange(20)\n",
    "    y = np.argmax(curr_drevi, axis=0)\n",
    "    x_peak = np.argmax(y)\n",
    "    y_peak = np.max(y)\n",
    "\n",
    "    peaks[curr_cluster] = x_peak"
   ]
  },
  {
   "cell_type": "markdown",
   "metadata": {
    "colab_type": "text",
    "id": "PpLvrAAb5zFf"
   },
   "source": [
    "#### Plot new cluster labels ordered by peak expression"
   ]
  },
  {
   "cell_type": "code",
   "execution_count": null,
   "metadata": {
    "colab": {
     "base_uri": "https://localhost:8080/",
     "height": 863
    },
    "colab_type": "code",
    "id": "s7fcgvHk5zFf",
    "outputId": "d3999365-7b60-4abd-8ad4-0aa9d1b03066"
   },
   "outputs": [],
   "source": [
    "fig, axes = plt.subplots(6,4, figsize=(4*2,6*2))\n",
    "\n",
    "for curr_cluster, ax in enumerate(axes.flatten()):\n",
    "    if curr_cluster >= 22:\n",
    "        ax.axis('off')\n",
    "        continue\n",
    "    curr_drevi = mean_drevi[curr_cluster].reshape(20,20)\n",
    "    \n",
    "    curr_n = np.sum(clusters == curr_cluster)\n",
    "    ax.imshow(curr_drevi, origin='lower', cmap='inferno')\n",
    "    ax.set_xticks([]); ax.set_yticks([])\n",
    "    ax.set_title('Cluster {} - ({})'.format(curr_cluster, curr_n))\n",
    "    \n",
    "    x = np.arange(20)\n",
    "    y = np.argmax(curr_drevi, axis=0)\n",
    "    x_peak = np.argmax(y)\n",
    "    y_peak = np.max(y)\n",
    "    ax.plot(x,y, c='r', linewidth=5)\n",
    "    ax.scatter(x_peak, y_peak, edgecolor='k', color='lightgrey', s=100, zorder=10)\n",
    "    ax.set_xlim(0,19)\n",
    "fig.tight_layout()"
   ]
  },
  {
   "cell_type": "markdown",
   "metadata": {
    "colab_type": "text",
    "id": "nF8QbUd05zFi"
   },
   "source": [
    "## Transcription factor target prediction\n",
    "\n",
    "Now that we have the order of expression for each gene cluster in the dataset, we can start to predict transcription factor targets. \n",
    "\n",
    "We're going to focus on ZEB1, a transcription factor and key regulator of EMT with poorly characterized regulatory targets."
   ]
  },
  {
   "cell_type": "markdown",
   "metadata": {
    "colab_type": "text",
    "id": "Jb1ZI5Cr5zFk"
   },
   "source": [
    "### Identifying genes with association with ZEB1\n",
    "\n",
    "Here, we'll rank each gene by its statistical association with ZEB1 just as we did with VIM above. Note this will take a couple minutes."
   ]
  },
  {
   "cell_type": "markdown",
   "metadata": {
    "colab_type": "text",
    "id": "RKxQOH4z5zFl"
   },
   "source": [
    "**Note:** to save time, we precomputed DREMI for you. You can uncomment the following code block to run the code yourself. It takes around 15 minutes in colab."
   ]
  },
  {
   "cell_type": "code",
   "execution_count": null,
   "metadata": {
    "colab": {},
    "colab_type": "code",
    "id": "ka4M3Rac5zFl"
   },
   "outputs": [],
   "source": [
    "# zeb1_dremi_scores = Parallel(n_jobs=28)(delayed(scprep.stats.knnDREMI)(data_magic['ZEB1'], data_magic[g], n_jobs=1) for g in data_magic.columns)\n",
    "# zeb1_dremi_scores = np.array(zeb1_dremi_scores)"
   ]
  },
  {
   "cell_type": "markdown",
   "metadata": {
    "colab_type": "text",
    "id": "O_Z_IXyy5zFo"
   },
   "source": [
    "#### Selecting genes with strongest association\n",
    "\n",
    "Here, we're going to be much more selective than with our selection of EMT-related genes. We will start with a cutoff at the 98th-percentile."
   ]
  },
  {
   "cell_type": "code",
   "execution_count": null,
   "metadata": {
    "colab": {
     "base_uri": "https://localhost:8080/",
     "height": 302
    },
    "colab_type": "code",
    "id": "P1yERZBH5zFp",
    "outputId": "b546be4b-1283-4ceb-a85e-b0035a642fc5"
   },
   "outputs": [],
   "source": [
    "fig, ax = plt.subplots(1)\n",
    "\n",
    "zeb1_dremi_cutoff = np.percentile(zeb1_dremi_scores, 95)\n",
    "\n",
    "ax.hist(zeb1_dremi_scores, bins=100)\n",
    "ax.axvline(zeb1_dremi_cutoff, color='k')\n",
    "ax.text(zeb1_dremi_cutoff + 0.2, 400, 'Cutoff = {:.2f}'.format(zeb1_dremi_cutoff))\n",
    "ax.set_title('DREMI scores with ZEB1')"
   ]
  },
  {
   "cell_type": "markdown",
   "metadata": {
    "colab_type": "text",
    "id": "WwZlal595zFs"
   },
   "source": [
    "#### Creating the ZEB1 dremi mask"
   ]
  },
  {
   "cell_type": "code",
   "execution_count": null,
   "metadata": {
    "colab": {},
    "colab_type": "code",
    "id": "vpS8QIOy5zFt"
   },
   "outputs": [],
   "source": [
    "zeb1_dremi_mask = zeb1_dremi_scores[emt_related_genes_mask] > zeb1_dremi_cutoff"
   ]
  },
  {
   "cell_type": "markdown",
   "metadata": {
    "colab_type": "text",
    "id": "5Knw3Vs85zFv"
   },
   "source": [
    "#### Selecting genes that are expressed with or after ZEB1\n",
    "\n",
    "Here, we'll identify when ZEB1 peaks based on it's cluster, and get all clusters that peak at the same time or later."
   ]
  },
  {
   "cell_type": "code",
   "execution_count": null,
   "metadata": {
    "colab": {},
    "colab_type": "code",
    "id": "vj8fLIr05zFw"
   },
   "outputs": [],
   "source": [
    "emt_gene_names = data.columns.values[emt_related_genes_mask]"
   ]
  },
  {
   "cell_type": "code",
   "execution_count": null,
   "metadata": {
    "colab": {},
    "colab_type": "code",
    "id": "PkFT0W-65zFy"
   },
   "outputs": [],
   "source": [
    "# Get zeb1 cluster\n",
    "zeb_ix = np.where(emt_gene_names == 'ZEB1')[0][0]\n",
    "zeb_cluster = clusters[zeb_ix]\n",
    "\n",
    "# Get the timing of the zeb1 peak\n",
    "curr_drevi = mean_drevi[zeb_cluster].reshape(20,20)\n",
    "y = np.argmax(curr_drevi, axis=0)\n",
    "zeb1_peak = np.argmax(y)\n",
    "\n",
    "# Create a mask identify genes in clusters that peak with or after ZEB1\n",
    "timing_mask = np.array([peaks[cl] >= zeb1_peak for cl in clusters])"
   ]
  },
  {
   "cell_type": "markdown",
   "metadata": {
    "colab_type": "text",
    "id": "9i21AzFx5zF0"
   },
   "source": [
    "#### Combining DREMI and timing to get putative genes"
   ]
  },
  {
   "cell_type": "code",
   "execution_count": null,
   "metadata": {
    "colab": {},
    "colab_type": "code",
    "id": "0HmukXsl5zF1"
   },
   "outputs": [],
   "source": [
    "putative_target_mask = timing_mask & zeb1_dremi_mask"
   ]
  },
  {
   "cell_type": "markdown",
   "metadata": {
    "colab_type": "text",
    "id": "y94cu_ck5zF4"
   },
   "source": [
    "#### Selecting gene names"
   ]
  },
  {
   "cell_type": "code",
   "execution_count": null,
   "metadata": {
    "colab": {},
    "colab_type": "code",
    "id": "L-LdxwMM5zF4"
   },
   "outputs": [],
   "source": [
    "putative_target_genes = emt_gene_names[putative_target_mask]\n",
    "putative_target_genes_no_time = emt_gene_names[zeb1_dremi_mask]"
   ]
  },
  {
   "cell_type": "markdown",
   "metadata": {
    "colab_type": "text",
    "id": "komkc_iH5zF6"
   },
   "source": [
    "**Discussion**: In pairs, design an experiment that you might perform to validate these targets."
   ]
  },
  {
   "cell_type": "markdown",
   "metadata": {
    "colab_type": "text",
    "id": "OQf372u65zF7"
   },
   "source": [
    "## Comparing expression of putative targets after ZEB1 induction\n",
    "\n",
    "van Dijk et al. 2018 performed an experiment to test the ZEB1 targets based on Dox-induction of ZEB1. The idea was that TGF-β leads to ZEB1 upregulation, but also turns on a whole host of other genes. By specifically inducing ZEB1 in the same cell line, we can determine which genes are upregulated specifically based on ZEB1 overexpression.\n",
    "\n",
    "This dataset is already filtered and preprocessed, so we can work with it directly. We will calculate the fold change for each gene in the TGF-β sample and the ZEB1-induced sample and examine the distribution of fold-changes for 1) all genes 2) putative ZEB1 targets and 3) all genes with high DREMI with ZEB1, but not restricted to peak expression with or after ZEB1."
   ]
  },
  {
   "cell_type": "markdown",
   "metadata": {
    "colab_type": "text",
    "id": "f4XucbZ55zF8"
   },
   "source": [
    "### Downloading the ZEB1 induced scRNA-seq data"
   ]
  },
  {
   "cell_type": "code",
   "execution_count": null,
   "metadata": {
    "colab": {},
    "colab_type": "code",
    "id": "apakFBRi5zF-"
   },
   "outputs": [],
   "source": [
    "download_path = os.path.expanduser('~/Peer_2015_ZEB1_induction.processed.pkl.gz')\n",
    "\n",
    "# Download the data \n",
    "if not os.path.exists(download_path):\n",
    "    scprep.io.download.download_google_drive('14K2pqQNH0VpLKhv2vPjhUkQtnBoMhNhy', download_path)\n",
    "\n",
    "data_dox = pd.read_pickle(download_path)"
   ]
  },
  {
   "cell_type": "markdown",
   "metadata": {
    "colab_type": "text",
    "id": "0GWOlcN45zGA"
   },
   "source": [
    "### Running PHATE"
   ]
  },
  {
   "cell_type": "code",
   "execution_count": null,
   "metadata": {
    "colab": {
     "base_uri": "https://localhost:8080/",
     "height": 416
    },
    "colab_type": "code",
    "id": "u2HY8ue15zGA",
    "outputId": "c3f75c75-b30c-4d9d-ecd3-68388a24395e"
   },
   "outputs": [],
   "source": [
    "data_dox_phate = phate.PHATE().fit_transform(data_dox)"
   ]
  },
  {
   "cell_type": "markdown",
   "metadata": {
    "colab_type": "text",
    "id": "cnXnkuZK5zGE"
   },
   "source": [
    "#### Running MAGIC"
   ]
  },
  {
   "cell_type": "code",
   "execution_count": null,
   "metadata": {
    "colab": {
     "base_uri": "https://localhost:8080/",
     "height": 243
    },
    "colab_type": "code",
    "id": "OFnmJFxu5zGE",
    "outputId": "d987e9a2-b09f-46fb-ef11-70c6be011773"
   },
   "outputs": [],
   "source": [
    "data_dox_magic = magic.MAGIC(t=4).fit_transform(data_dox)"
   ]
  },
  {
   "cell_type": "markdown",
   "metadata": {
    "colab_type": "text",
    "id": "T5WxeDrh5zGI"
   },
   "source": [
    "#### Plotting expression of EMT markers\n",
    "\n",
    "You will need to fill in your code from above to make this cell work"
   ]
  },
  {
   "cell_type": "code",
   "execution_count": null,
   "metadata": {
    "colab": {
     "base_uri": "https://localhost:8080/",
     "height": 131
    },
    "colab_type": "code",
    "id": "kMFkwI6F5zGJ",
    "outputId": "44f90cd1-de2a-41e0-9d64-cd8a624e199c"
   },
   "outputs": [],
   "source": [
    "fig, axes = plt.subplots(2,2,figsize=(8,8))\n",
    "\n",
    "genes = ['CDH1','EPCAM', 'VIM', 'CDH2']\n",
    "for i, ax in enumerate(axes.flatten()):\n",
    "    # ========\n",
    "    # Select the i'th gene from genes\n",
    "    curr_gene = \n",
    "    # Select the column of `data` for `curr_gene`\n",
    "    expression = \n",
    "    # ========\n",
    "    scprep.plot.scatter2d(data_dox_phate, c=expression, \n",
    "                          title=curr_gene, ticks=None,\n",
    "                          ax=ax)\n",
    "    \n",
    "fig.tight_layout()"
   ]
  },
  {
   "cell_type": "markdown",
   "metadata": {
    "colab_type": "text",
    "id": "u5yNP4UF5zGN"
   },
   "source": [
    "### Discussion\n",
    "\n",
    "Compare this PHATE plot to the previous dataset. Do you think they are comparable? Why or why not?"
   ]
  },
  {
   "cell_type": "markdown",
   "metadata": {
    "colab_type": "text",
    "id": "u3hyQUWo5zGO"
   },
   "source": [
    "### Calculating fold-changes"
   ]
  },
  {
   "cell_type": "code",
   "execution_count": null,
   "metadata": {
    "colab": {},
    "colab_type": "code",
    "id": "u8Oo-SRt5zGO"
   },
   "outputs": [],
   "source": [
    "tgfb_mean = data[data_dox_magic.columns].mean(axis=0)\n",
    "zeb1_mean = data_dox.mean(axis=0)\n",
    "fc_expression = ( zeb1_mean - tgfb_mean) / tgfb_mean\n",
    "log2_fc = np.log2(np.abs(fc_expression) + 1) * np.sign(fc_expression)"
   ]
  },
  {
   "cell_type": "markdown",
   "metadata": {
    "colab_type": "text",
    "id": "nYHqM61S5zGQ"
   },
   "source": [
    "#### Look at the genes with largest fold-change"
   ]
  },
  {
   "cell_type": "code",
   "execution_count": null,
   "metadata": {
    "colab": {
     "base_uri": "https://localhost:8080/",
     "height": 225
    },
    "colab_type": "code",
    "id": "s6RtZ9W85zGR",
    "outputId": "28ced15d-9e32-4627-9dd7-30121aaf0e1c"
   },
   "outputs": [],
   "source": [
    "log2_fc[putative_target_genes].sort_values(ascending=False)"
   ]
  },
  {
   "cell_type": "markdown",
   "metadata": {
    "colab_type": "text",
    "id": "Hb8M8fOi5zGU"
   },
   "source": [
    "### Plotting the distribution of fold-change per group\n",
    "\n",
    "Here, we're using `sns.kdeplot` to create a [kernel-density estimate](https://en.wikipedia.org/wiki/Kernel_density_estimation) (KDE) of the fold-changes in each group. This is similar to a normalized histogram, and the area under the KDE plot sums to 1. This makes it more similar to a continuous probability density function. \n",
    "\n",
    "It also looks nicer than a histogram.\n",
    "\n",
    "To see all the options for `kdeplot`, read the documentation: https://seaborn.pydata.org/generated/seaborn.kdeplot.html"
   ]
  },
  {
   "cell_type": "code",
   "execution_count": null,
   "metadata": {
    "colab": {
     "base_uri": "https://localhost:8080/",
     "height": 306
    },
    "colab_type": "code",
    "id": "6naaCX-s5zGU",
    "outputId": "a2351685-6948-45bb-cd93-341239a29e28"
   },
   "outputs": [],
   "source": [
    "fig, ax = plt.subplots(1, figsize=(5,4))\n",
    "\n",
    "# Plot all non-target genes\n",
    "mask = ~np.isin(log2_fc.index, putative_target_genes)\n",
    "sns.kdeplot(log2_fc[mask], ax=ax, label='Non-target genes - ({})'.format(np.sum(mask)))\n",
    "\n",
    "# Plot the putative target genes \n",
    "mask = np.isin(log2_fc.index, putative_target_genes)\n",
    "sns.kdeplot(log2_fc[mask], ax=ax, label='Putative targets - ({})'.format(np.sum(mask)))\n",
    "\n",
    "# Plot the genes with the highest DREMI scores (not filtered for timing)\n",
    "mask = np.isin(log2_fc.index, putative_target_genes_no_time)\n",
    "sns.kdeplot(log2_fc[mask], ax=ax, label='DREMI w/o time - ({})'.format(np.sum(mask)))\n",
    "ax.set_xlabel('Log2(FC)')\n",
    "ax.set_ylabel('Density')"
   ]
  },
  {
   "cell_type": "markdown",
   "metadata": {
    "colab_type": "text",
    "id": "APtbEp_K5zGX"
   },
   "source": [
    "### Discussion\n",
    "\n",
    "Why do you think that we don't observe stronger upregulation of putative target genes? Can you think of another experiment or style of analysis that might enrich for ZEB1 targets? Could we consider subclasses of cells to improve analysis?"
   ]
  },
  {
   "cell_type": "markdown",
   "metadata": {
    "colab_type": "text",
    "id": "jOrR8Wcc5zGY"
   },
   "source": [
    "## Plotting the interesction between ATAC validated hits and the putative targets"
   ]
  },
  {
   "cell_type": "markdown",
   "metadata": {
    "colab_type": "text",
    "id": "Jv5cKUBN5zGY"
   },
   "source": [
    "### About the experiment\n",
    "\n",
    "From van Dijk et al. (2018)\n",
    "\n",
    "> To systematically validate our target predictions, we used ATAC-seq (assay for transposase-accessible chromatin using sequencing) (Buenrostro et al., 2013) as an independent and well-accepted approach for target prediction (Kundaje et al., 2015). ATAC-seq was carried out on HMLE cells 8 days following TGF-β stimulation. Cells were FACS-sorted by CD44+ to enrich for the mesenchymal population. We used the ATAC-seq peaks combined with motif analysis to derive a set of targets for each TF using standard approaches (see STAR Methods). Note, we do not expect the two approaches to perfectly align: our predictions identify both direct and indirect targets of a TF, whereas ATAC-seq only captures direct targets. ATAC-seq identifies binding of TFs that are activating, poised, or inhibiting, whereas our predictions only focus on TF activation. Nevertheless, if our predictions are accurate, we expect a significant overlap between the two sets.\n",
    "\n",
    "Here, we're just downloading the list of validated targets that we'll use to:\n",
    "1. Determine the overlap between ATAC-seq predicted targets and the DREMI targets\n",
    "2. Examine the change in expression of the ATAC-seq targets in the ZEB1 dox experiment\n",
    "3. Perform gene set enrichment analysis\n",
    "\n",
    "If you want to learn more about how these targets were predicted, navigate to the \"ATAC-seq Validation of TF-target Predictions\" section of the MAGIC paper (https://doi.org/10.1016/j.cell.2018.05.061)."
   ]
  },
  {
   "cell_type": "markdown",
   "metadata": {
    "colab_type": "text",
    "id": "tW9K4BZJ5zGZ"
   },
   "source": [
    "###  Downloading validated ATAC-seq targets"
   ]
  },
  {
   "cell_type": "code",
   "execution_count": null,
   "metadata": {
    "colab": {},
    "colab_type": "code",
    "id": "cNTyEToT5zGZ"
   },
   "outputs": [],
   "source": [
    "download_path = os.path.expanduser('~/Peer_2015_ATAC_validated_targets.pkl.gz')\n",
    "\n",
    "# Download the data \n",
    "if not os.path.exists(download_path):\n",
    "    scprep.io.download.download_google_drive('1SUU_rLlKNTrWc7KV0t2txCBeIO-DpwLn', download_path)\n",
    "    \n",
    "atac_hits = pd.read_pickle(download_path)"
   ]
  },
  {
   "cell_type": "markdown",
   "metadata": {
    "colab_type": "text",
    "id": "1u4r_UJ55zGc"
   },
   "source": [
    "#### How to navigate this DataFrame\n",
    "\n",
    "In `atac_hits`, rows are transcription factors and columns are targets. The presence of a `1` in the DataFrame indicates that the TF is predicted to bind the target. A `0` indicates the lack potential binding."
   ]
  },
  {
   "cell_type": "code",
   "execution_count": null,
   "metadata": {
    "colab": {
     "base_uri": "https://localhost:8080/",
     "height": 273
    },
    "colab_type": "code",
    "id": "MBrN1t7g5zGd",
    "outputId": "572ada61-0bd8-413f-a93d-b8e636d61e67"
   },
   "outputs": [],
   "source": [
    "atac_hits.head()"
   ]
  },
  {
   "cell_type": "code",
   "execution_count": null,
   "metadata": {
    "colab": {},
    "colab_type": "code",
    "id": "-yn0pU8F5zGo"
   },
   "outputs": [],
   "source": [
    "# This gets the whole row\n",
    "validated_hits = atac_hits.loc['ZEB1']\n",
    "# Here we get the gene names for the non-zero targets\n",
    "validated_hits = validated_hits[validated_hits == 1].index.values"
   ]
  },
  {
   "cell_type": "code",
   "execution_count": null,
   "metadata": {
    "colab": {
     "base_uri": "https://localhost:8080/",
     "height": 52
    },
    "colab_type": "code",
    "id": "nPZQGSwL5zGr",
    "outputId": "2ad7107a-23b8-430e-c037-0d0b2c57bd1b"
   },
   "outputs": [],
   "source": [
    "validated_hits"
   ]
  },
  {
   "cell_type": "markdown",
   "metadata": {
    "colab_type": "text",
    "id": "Yi-mfxhG5zGt"
   },
   "source": [
    "#### Get the number of genes overlapping in `validated_hits` and `putative_target_genes`\n",
    "\n",
    "Here, you will need to use `np.intersect1d` to get the intersection of each array. For reference: https://docs.scipy.org/doc/numpy/reference/generated/numpy.intersect1d.html"
   ]
  },
  {
   "cell_type": "code",
   "execution_count": null,
   "metadata": {
    "colab": {},
    "colab_type": "code",
    "id": "DboXPWBk5zGt",
    "outputId": "02536995-cdbb-45c0-cfb0-a3384721224f"
   },
   "outputs": [],
   "source": [
    "# ======\n",
    "# Write code to get the size of each array and the intersection\n",
    "size_dremi_targets = \n",
    "size_atac_targets  = \n",
    "size_intersection  = \n",
    "\n",
    "print('Of {} DREMI targets and {} ATAC-validated targets, {} genes overlap.'.format(size_dremi_targets, \n",
    "                                                                   size_atac_targets, size_intersection))\n",
    "# ======"
   ]
  },
  {
   "cell_type": "markdown",
   "metadata": {
    "colab_type": "text",
    "id": "P-GdTXkF5zGz"
   },
   "source": [
    "#### Plotting the fold-change in expression of the ATAC-validated hits\n",
    "\n",
    "Copy the code from [the previous KDE plot](#Plotting-the-distribution-of-fold-change-per-group), and add a line to plot the ATAC-seq validated hits"
   ]
  },
  {
   "cell_type": "code",
   "execution_count": null,
   "metadata": {
    "colab": {
     "base_uri": "https://localhost:8080/",
     "height": 306
    },
    "colab_type": "code",
    "id": "a0ZjNng45zG0",
    "outputId": "ec37bc23-c233-47da-aea5-1aebb64b7a6f"
   },
   "outputs": [],
   "source": [
    "# ======\n",
    "# Add an extra line to plot the ATAC-seq validated hits\n",
    "ax = sns.kdeplot(log2_fc[~np.isin(log2_fc.index, putative_target_genes)], label='Non-target genes')\n",
    "sns.kdeplot(log2_fc[putative_target_genes], ax=ax, label='Putative targets')\n",
    "sns.kdeplot(log2_fc[putative_target_genes_no_time], label='DREMI w/o time', ax=ax)\n",
    "sns.kdeplot(log2_fc[np.isin(log2_fc.index, validated_hits)], label='All ATAC validated hits', ax=ax)\n",
    "ax.set_xlabel('Log2(FC)')\n",
    "# ======"
   ]
  },
  {
   "cell_type": "markdown",
   "metadata": {
    "colab_type": "text",
    "id": "iEzVrXDV5zG2"
   },
   "source": [
    "### Discussion\n",
    "\n",
    "What do you notice about the distribution of expression values for the ATAC-validated targets?\n",
    "How does this influence your interpreation of the ZEB1 induction experiment?"
   ]
  },
  {
   "cell_type": "markdown",
   "metadata": {
    "colab_type": "text",
    "id": "Icke0FBq5zG3"
   },
   "source": [
    "## Gene set enrichment analysis\n",
    "\n",
    "As before, we will use EnrichR to perform gene set enrichment analysis. For this section we are going to take each gene list, and determine which gene sets are enriched and how strongly.\n",
    "\n",
    "Each pair should:\n",
    "\n",
    "1. Get a list of GO Biological Process sets that are enriched in the  \n",
    "    A. DREMI-predicted targets  \n",
    "    B. ATAC targets  \n",
    "    C. Intersection of DREMI and ATAC-seq targets  \n",
    "2. Of the shared enriched terms, compare the Combined Scores\n",
    "3. Which gene set has the highest enrichment for gene sets that appear relevant to EMT?\n",
    "\n",
    "You may use either the EnrichR website (https://amp.pharm.mssm.edu/Enrichr/) or the `gseapy` python module. If you wish to use gseapy, consult the previous notebook for code."
   ]
  },
  {
   "cell_type": "markdown",
   "metadata": {},
   "source": [
    "**Note Scott/Dan**: Where is a code block where the GSEA analysis is actually done?"
   ]
  },
  {
   "cell_type": "code",
   "execution_count": null,
   "metadata": {
    "colab": {
     "base_uri": "https://localhost:8080/",
     "height": 1000
    },
    "colab_type": "code",
    "id": "b-3FmoUS5zG4",
    "outputId": "f5517c84-033a-4a5c-ecf4-8023449bdbde"
   },
   "outputs": [],
   "source": [
    "for gene in putative_target_genes:\n",
    "    print(gene)"
   ]
  }
 ],
 "metadata": {
  "colab": {
   "name": "01_Gene_Relationships_in_EMT_data.ipynb",
   "provenance": []
  },
  "kernelspec": {
   "display_name": "Python 3",
   "language": "python",
   "name": "python3"
  },
  "language_info": {
   "codemirror_mode": {
    "name": "ipython",
    "version": 3
   },
   "file_extension": ".py",
   "mimetype": "text/x-python",
   "name": "python",
   "nbconvert_exporter": "python",
   "pygments_lexer": "ipython3",
   "version": "3.7.7"
  }
 },
 "nbformat": 4,
 "nbformat_minor": 1
}
